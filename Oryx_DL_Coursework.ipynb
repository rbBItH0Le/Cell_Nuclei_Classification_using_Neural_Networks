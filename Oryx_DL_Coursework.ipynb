{
 "cells": [
  {
   "cell_type": "code",
   "execution_count": 1,
   "id": "e1b55863",
   "metadata": {
    "_cell_guid": "b1076dfc-b9ad-4769-8c92-a6c4dae69d19",
    "_uuid": "8f2839f25d086af736a60e9eeb907d3b93b6e0e5",
    "execution": {
     "iopub.execute_input": "2022-03-25T23:03:28.083901Z",
     "iopub.status.busy": "2022-03-25T23:03:28.075452Z",
     "iopub.status.idle": "2022-03-25T23:03:29.798135Z",
     "shell.execute_reply": "2022-03-25T23:03:29.797513Z",
     "shell.execute_reply.started": "2022-03-25T22:51:16.599240Z"
    },
    "papermill": {
     "duration": 1.757083,
     "end_time": "2022-03-25T23:03:29.798292",
     "exception": false,
     "start_time": "2022-03-25T23:03:28.041209",
     "status": "completed"
    },
    "tags": []
   },
   "outputs": [],
   "source": [
    "# This Python 3 environment comes with many helpful analytics libraries installed\n",
    "# It is defined by the kaggle/python Docker image: https://github.com/kaggle/docker-python\n",
    "# For example, here's several helpful packages to load\n",
    "\n",
    "import numpy as np \n",
    "import pandas as pd \n",
    "import matplotlib.pyplot as plt\n",
    "\n",
    "import os\n",
    "\n",
    "import torch\n",
    "import torch.nn as nn\n",
    "import torch.optim as optim\n",
    "import torch.nn.functional as F\n",
    "import torchvision\n",
    "import torchvision.transforms as transforms\n",
    "\n",
    "from torchvision import models, datasets\n",
    "from torch.utils.data import DataLoader, random_split, ConcatDataset\n",
    "\n",
    "from PIL import Image\n",
    "\n",
    "torch.cuda.is_available()\n",
    "torch.cuda.get_device_name(0)\n",
    "torch.cuda.set_device(0)\n",
    "# You can write up to 20GB to the current directory (/kaggle/working/) that gets preserved as output when you create a version using \"Save & Run All\" \n",
    "# You can also write temporary files to /kaggle/temp/, but they won't be saved outside of the current session"
   ]
  },
  {
   "cell_type": "markdown",
   "id": "241f87d2",
   "metadata": {
    "papermill": {
     "duration": 0.028161,
     "end_time": "2022-03-25T23:03:29.855422",
     "exception": false,
     "start_time": "2022-03-25T23:03:29.827261",
     "status": "completed"
    },
    "tags": []
   },
   "source": [
    "**Setting the train and test paths so that data can be can be read. Manually analysing the file counts in the train folder it can been seen that images in the normal subfolder is lesser than the other three classes. This will be dealt with before training and evaluating the model**"
   ]
  },
  {
   "cell_type": "code",
   "execution_count": 2,
   "id": "f23a93f3",
   "metadata": {
    "execution": {
     "iopub.execute_input": "2022-03-25T23:03:29.918734Z",
     "iopub.status.busy": "2022-03-25T23:03:29.917855Z",
     "iopub.status.idle": "2022-03-25T23:03:29.919672Z",
     "shell.execute_reply": "2022-03-25T23:03:29.920118Z",
     "shell.execute_reply.started": "2022-03-25T22:51:16.906645Z"
    },
    "papermill": {
     "duration": 0.035672,
     "end_time": "2022-03-25T23:03:29.920242",
     "exception": false,
     "start_time": "2022-03-25T23:03:29.884570",
     "status": "completed"
    },
    "tags": []
   },
   "outputs": [],
   "source": [
    "train_path='../input/deep-learning-for-msc-coursework-2022/train/train'\n",
    "test_path='../input/deep-learning-for-msc-coursework-2022/test'"
   ]
  },
  {
   "cell_type": "markdown",
   "id": "1f705c04",
   "metadata": {
    "papermill": {
     "duration": 0.029121,
     "end_time": "2022-03-25T23:03:29.978388",
     "exception": false,
     "start_time": "2022-03-25T23:03:29.949267",
     "status": "completed"
    },
    "tags": []
   },
   "source": [
    "**The values of mean and std for train and test transforms have been selected from the mean and standard deviation of ImageNet.Since ImageNet is trained on millions of pictures,I'll use the same parameters for my neural network**"
   ]
  },
  {
   "cell_type": "code",
   "execution_count": 3,
   "id": "5658bf4b",
   "metadata": {
    "execution": {
     "iopub.execute_input": "2022-03-25T23:03:30.045580Z",
     "iopub.status.busy": "2022-03-25T23:03:30.044845Z",
     "iopub.status.idle": "2022-03-25T23:03:30.046967Z",
     "shell.execute_reply": "2022-03-25T23:03:30.047397Z",
     "shell.execute_reply.started": "2022-03-25T22:51:17.105905Z"
    },
    "papermill": {
     "duration": 0.037058,
     "end_time": "2022-03-25T23:03:30.047527",
     "exception": false,
     "start_time": "2022-03-25T23:03:30.010469",
     "status": "completed"
    },
    "tags": []
   },
   "outputs": [],
   "source": [
    "train_transform = transforms.Compose([transforms.RandomVerticalFlip(p=0.7),\n",
    "                                      transforms.RandomHorizontalFlip(p=0.7),\n",
    "                                      transforms.ColorJitter(contrast=(0.43,1),brightness=(0.65,1),saturation=(0.73,1)),\n",
    "                                      transforms.ToTensor(),\n",
    "                                      transforms.Normalize(mean=[0.485, 0.456, 0.406],std=[0.229, 0.224, 0.225])\n",
    "                                      ])"
   ]
  },
  {
   "cell_type": "markdown",
   "id": "d413b496",
   "metadata": {
    "papermill": {
     "duration": 0.028661,
     "end_time": "2022-03-25T23:03:30.104860",
     "exception": false,
     "start_time": "2022-03-25T23:03:30.076199",
     "status": "completed"
    },
    "tags": []
   },
   "source": [
    "**Setting up the train dataset and applying the set of train transformations on each image in the folder**"
   ]
  },
  {
   "cell_type": "code",
   "execution_count": 4,
   "id": "73b6bec0",
   "metadata": {
    "execution": {
     "iopub.execute_input": "2022-03-25T23:03:30.166856Z",
     "iopub.status.busy": "2022-03-25T23:03:30.166157Z",
     "iopub.status.idle": "2022-03-25T23:03:30.309090Z",
     "shell.execute_reply": "2022-03-25T23:03:30.308355Z",
     "shell.execute_reply.started": "2022-03-25T22:51:17.304716Z"
    },
    "papermill": {
     "duration": 0.175232,
     "end_time": "2022-03-25T23:03:30.309212",
     "exception": false,
     "start_time": "2022-03-25T23:03:30.133980",
     "status": "completed"
    },
    "tags": []
   },
   "outputs": [],
   "source": [
    "fulldata=torchvision.datasets.ImageFolder(root=train_path,transform=train_transform)"
   ]
  },
  {
   "cell_type": "markdown",
   "id": "0473e7fa",
   "metadata": {
    "papermill": {
     "duration": 0.029203,
     "end_time": "2022-03-25T23:03:30.367617",
     "exception": false,
     "start_time": "2022-03-25T23:03:30.338414",
     "status": "completed"
    },
    "tags": []
   },
   "source": [
    "**Splitting the data in a 80/20 split for training and evaluatiing the model**"
   ]
  },
  {
   "cell_type": "code",
   "execution_count": 5,
   "id": "a629d7e3",
   "metadata": {
    "execution": {
     "iopub.execute_input": "2022-03-25T23:03:30.432891Z",
     "iopub.status.busy": "2022-03-25T23:03:30.432259Z",
     "iopub.status.idle": "2022-03-25T23:03:30.436223Z",
     "shell.execute_reply": "2022-03-25T23:03:30.435591Z",
     "shell.execute_reply.started": "2022-03-25T22:51:17.478491Z"
    },
    "papermill": {
     "duration": 0.038618,
     "end_time": "2022-03-25T23:03:30.436351",
     "exception": false,
     "start_time": "2022-03-25T23:03:30.397733",
     "status": "completed"
    },
    "tags": []
   },
   "outputs": [],
   "source": [
    "trainsplit = int(len(fulldata)*(90/100))\n",
    "testsplit = len(fulldata)- trainsplit"
   ]
  },
  {
   "cell_type": "markdown",
   "id": "a50d3013",
   "metadata": {
    "papermill": {
     "duration": 0.030525,
     "end_time": "2022-03-25T23:03:30.497482",
     "exception": false,
     "start_time": "2022-03-25T23:03:30.466957",
     "status": "completed"
    },
    "tags": []
   },
   "source": [
    "**Using random split function to divide the data into train and validation splits for training and evaluating the model**"
   ]
  },
  {
   "cell_type": "code",
   "execution_count": 6,
   "id": "8b7abbab",
   "metadata": {
    "execution": {
     "iopub.execute_input": "2022-03-25T23:03:30.564113Z",
     "iopub.status.busy": "2022-03-25T23:03:30.563354Z",
     "iopub.status.idle": "2022-03-25T23:03:30.578057Z",
     "shell.execute_reply": "2022-03-25T23:03:30.577589Z",
     "shell.execute_reply.started": "2022-03-25T22:51:17.747696Z"
    },
    "papermill": {
     "duration": 0.050623,
     "end_time": "2022-03-25T23:03:30.578192",
     "exception": false,
     "start_time": "2022-03-25T23:03:30.527569",
     "status": "completed"
    },
    "tags": []
   },
   "outputs": [],
   "source": [
    "trainset,valset = random_split(fulldata,(trainsplit,testsplit))"
   ]
  },
  {
   "cell_type": "markdown",
   "id": "15467a68",
   "metadata": {
    "papermill": {
     "duration": 0.030714,
     "end_time": "2022-03-25T23:03:30.640180",
     "exception": false,
     "start_time": "2022-03-25T23:03:30.609466",
     "status": "completed"
    },
    "tags": []
   },
   "source": [
    "**Setting up training and validation dataloader to iterate through the items of the dataset in training and testing**"
   ]
  },
  {
   "cell_type": "code",
   "execution_count": 7,
   "id": "079301cd",
   "metadata": {
    "execution": {
     "iopub.execute_input": "2022-03-25T23:03:30.713017Z",
     "iopub.status.busy": "2022-03-25T23:03:30.712154Z",
     "iopub.status.idle": "2022-03-25T23:03:30.714838Z",
     "shell.execute_reply": "2022-03-25T23:03:30.714310Z",
     "shell.execute_reply.started": "2022-03-25T22:51:18.018683Z"
    },
    "papermill": {
     "duration": 0.044017,
     "end_time": "2022-03-25T23:03:30.714950",
     "exception": false,
     "start_time": "2022-03-25T23:03:30.670933",
     "status": "completed"
    },
    "tags": []
   },
   "outputs": [],
   "source": [
    "trainloader=torch.utils.data.DataLoader(trainset,batch_size=256,shuffle=True)\n",
    "validloader=torch.utils.data.DataLoader(valset,batch_size=256,shuffle=True)"
   ]
  },
  {
   "cell_type": "markdown",
   "id": "7ce2570d",
   "metadata": {
    "papermill": {
     "duration": 0.030266,
     "end_time": "2022-03-25T23:03:30.774949",
     "exception": false,
     "start_time": "2022-03-25T23:03:30.744683",
     "status": "completed"
    },
    "tags": []
   },
   "source": [
    "**Defining neural network for image classification, Here padding is set to 1 in covulutional layers to keep the image size same as it is passed through a convulutional layer**"
   ]
  },
  {
   "cell_type": "code",
   "execution_count": 8,
   "id": "bcd1f88d",
   "metadata": {
    "execution": {
     "iopub.execute_input": "2022-03-25T23:03:30.845644Z",
     "iopub.status.busy": "2022-03-25T23:03:30.844776Z",
     "iopub.status.idle": "2022-03-25T23:03:30.847477Z",
     "shell.execute_reply": "2022-03-25T23:03:30.847021Z",
     "shell.execute_reply.started": "2022-03-25T22:51:18.192095Z"
    },
    "papermill": {
     "duration": 0.042956,
     "end_time": "2022-03-25T23:03:30.847581",
     "exception": false,
     "start_time": "2022-03-25T23:03:30.804625",
     "status": "completed"
    },
    "tags": []
   },
   "outputs": [],
   "source": [
    "class Covnet(nn.Module):\n",
    "    def __init__(self):\n",
    "        super().__init__()\n",
    "        self.drop=nn.Dropout(0.4)\n",
    "        self.conv1=nn.Conv2d(3,512,kernel_size=3,stride=1,padding=1)\n",
    "        self.conv2=nn.Conv2d(512,1024,kernel_size=3,stride=1,padding=1)\n",
    "        self.conv3=nn.Conv2d(1024,256,kernel_size=3,stride=1,padding=1)\n",
    "        self.fc1=nn.Linear(16384,256)\n",
    "        self.fc2=nn.Linear(256,128)\n",
    "        self.fc3=nn.Linear(128,4)\n",
    "               \n",
    "    def forward(self,X):\n",
    "        X = F.relu(self.conv1(X))\n",
    "        X = F.max_pool2d(X,2,2)\n",
    "        X = self.drop(X)\n",
    "        X = F.relu(self.conv2(X))\n",
    "        X = self.drop(X)\n",
    "        X = F.relu(self.conv3(X))\n",
    "        X = F.max_pool2d(X,2,2)\n",
    "        X = X.view(-1,16384)\n",
    "        X = F.relu(self.fc1(X))\n",
    "        X = self.drop(X)\n",
    "        X = F.relu(self.fc2(X))\n",
    "        return self.fc3(X)"
   ]
  },
  {
   "cell_type": "markdown",
   "id": "c9ef7fe0",
   "metadata": {
    "papermill": {
     "duration": 0.029625,
     "end_time": "2022-03-25T23:03:30.908061",
     "exception": false,
     "start_time": "2022-03-25T23:03:30.878436",
     "status": "completed"
    },
    "tags": []
   },
   "source": [
    "**Initializing the model and making it cuda compaitable so that GPU can be used for faster learning**"
   ]
  },
  {
   "cell_type": "code",
   "execution_count": 9,
   "id": "fe03b4f0",
   "metadata": {
    "execution": {
     "iopub.execute_input": "2022-03-25T23:03:30.979694Z",
     "iopub.status.busy": "2022-03-25T23:03:30.979064Z",
     "iopub.status.idle": "2022-03-25T23:03:33.945567Z",
     "shell.execute_reply": "2022-03-25T23:03:33.945019Z",
     "shell.execute_reply.started": "2022-03-25T22:51:18.361664Z"
    },
    "papermill": {
     "duration": 3.006553,
     "end_time": "2022-03-25T23:03:33.945711",
     "exception": false,
     "start_time": "2022-03-25T23:03:30.939158",
     "status": "completed"
    },
    "tags": []
   },
   "outputs": [],
   "source": [
    "model = Covnet()\n",
    "model = model.cuda()"
   ]
  },
  {
   "cell_type": "markdown",
   "id": "728b825b",
   "metadata": {
    "papermill": {
     "duration": 0.029913,
     "end_time": "2022-03-25T23:03:34.005413",
     "exception": false,
     "start_time": "2022-03-25T23:03:33.975500",
     "status": "completed"
    },
    "tags": []
   },
   "source": [
    "**Checking if the model is set to cuda**"
   ]
  },
  {
   "cell_type": "code",
   "execution_count": 10,
   "id": "e211008e",
   "metadata": {
    "execution": {
     "iopub.execute_input": "2022-03-25T23:03:34.071863Z",
     "iopub.status.busy": "2022-03-25T23:03:34.071072Z",
     "iopub.status.idle": "2022-03-25T23:03:34.074667Z",
     "shell.execute_reply": "2022-03-25T23:03:34.075105Z",
     "shell.execute_reply.started": "2022-03-25T22:51:18.560254Z"
    },
    "papermill": {
     "duration": 0.040338,
     "end_time": "2022-03-25T23:03:34.075236",
     "exception": false,
     "start_time": "2022-03-25T23:03:34.034898",
     "status": "completed"
    },
    "tags": []
   },
   "outputs": [
    {
     "data": {
      "text/plain": [
       "True"
      ]
     },
     "execution_count": 10,
     "metadata": {},
     "output_type": "execute_result"
    }
   ],
   "source": [
    "next(model.parameters()).is_cuda"
   ]
  },
  {
   "cell_type": "markdown",
   "id": "b4ca6a45",
   "metadata": {
    "papermill": {
     "duration": 0.030363,
     "end_time": "2022-03-25T23:03:34.137330",
     "exception": false,
     "start_time": "2022-03-25T23:03:34.106967",
     "status": "completed"
    },
    "tags": []
   },
   "source": [
    "**Releasing all unoccupied cache**"
   ]
  },
  {
   "cell_type": "code",
   "execution_count": 11,
   "id": "ddef20d3",
   "metadata": {
    "execution": {
     "iopub.execute_input": "2022-03-25T23:03:34.202957Z",
     "iopub.status.busy": "2022-03-25T23:03:34.202006Z",
     "iopub.status.idle": "2022-03-25T23:03:34.203880Z",
     "shell.execute_reply": "2022-03-25T23:03:34.204393Z",
     "shell.execute_reply.started": "2022-03-25T22:51:18.732127Z"
    },
    "papermill": {
     "duration": 0.037389,
     "end_time": "2022-03-25T23:03:34.204522",
     "exception": false,
     "start_time": "2022-03-25T23:03:34.167133",
     "status": "completed"
    },
    "tags": []
   },
   "outputs": [],
   "source": [
    "torch.cuda.empty_cache()"
   ]
  },
  {
   "cell_type": "markdown",
   "id": "0b25e167",
   "metadata": {
    "papermill": {
     "duration": 0.029652,
     "end_time": "2022-03-25T23:03:34.264699",
     "exception": false,
     "start_time": "2022-03-25T23:03:34.235047",
     "status": "completed"
    },
    "tags": []
   },
   "source": [
    "**Setting up loss function and optimizer for the neural network. Loss is given by CrossEntropyLoss and weights have been given to the function in the form of a tensor so that it can balance out label distribution. Maximum weights have been assigned to 'Normal' class and ADAM has been selected as the optimizer**"
   ]
  },
  {
   "cell_type": "code",
   "execution_count": 12,
   "id": "c82bcc7e",
   "metadata": {
    "execution": {
     "iopub.execute_input": "2022-03-25T23:03:34.333093Z",
     "iopub.status.busy": "2022-03-25T23:03:34.332409Z",
     "iopub.status.idle": "2022-03-25T23:03:34.335544Z",
     "shell.execute_reply": "2022-03-25T23:03:34.335068Z",
     "shell.execute_reply.started": "2022-03-25T22:51:18.902686Z"
    },
    "papermill": {
     "duration": 0.040698,
     "end_time": "2022-03-25T23:03:34.335663",
     "exception": false,
     "start_time": "2022-03-25T23:03:34.294965",
     "status": "completed"
    },
    "tags": []
   },
   "outputs": [],
   "source": [
    "criterion = nn.CrossEntropyLoss(weight = torch.tensor([1.2,1.04,1.3,2])).cuda()#Class weighting\n",
    "optimizer = optim.Adam(model.parameters(), lr = 0.00001,weight_decay=0.01)"
   ]
  },
  {
   "cell_type": "markdown",
   "id": "e789a474",
   "metadata": {
    "papermill": {
     "duration": 0.030336,
     "end_time": "2022-03-25T23:03:34.396955",
     "exception": false,
     "start_time": "2022-03-25T23:03:34.366619",
     "status": "completed"
    },
    "tags": []
   },
   "source": [
    "**Training and testing the initialized model with parameters**"
   ]
  },
  {
   "cell_type": "code",
   "execution_count": 13,
   "id": "e9990c0b",
   "metadata": {
    "execution": {
     "iopub.execute_input": "2022-03-25T23:03:34.470946Z",
     "iopub.status.busy": "2022-03-25T23:03:34.470236Z",
     "iopub.status.idle": "2022-03-25T23:12:17.465658Z",
     "shell.execute_reply": "2022-03-25T23:12:17.464714Z",
     "shell.execute_reply.started": "2022-03-25T22:51:19.075692Z"
    },
    "papermill": {
     "duration": 523.038879,
     "end_time": "2022-03-25T23:12:17.465867",
     "exception": false,
     "start_time": "2022-03-25T23:03:34.426988",
     "status": "completed"
    },
    "tags": []
   },
   "outputs": [
    {
     "name": "stdout",
     "output_type": "stream",
     "text": [
      "\n",
      "\n",
      "Epoch: 1 \n",
      "Train_Accuracy:  0.3072\n",
      "Testing_Accuracy: 0.2882\n",
      "\n",
      "\n",
      "Epoch: 2 \n",
      "Train_Accuracy:  0.2948\n",
      "Testing_Accuracy: 0.2882\n",
      "\n",
      "\n",
      "Epoch: 3 \n",
      "Train_Accuracy:  0.2948\n",
      "Testing_Accuracy: 0.2882\n",
      "\n",
      "\n",
      "Epoch: 4 \n",
      "Train_Accuracy:  0.2954\n",
      "Testing_Accuracy: 0.2882\n",
      "\n",
      "\n",
      "Epoch: 5 \n",
      "Train_Accuracy:  0.3137\n",
      "Testing_Accuracy: 0.3412\n",
      "\n",
      "\n",
      "Epoch: 6 \n",
      "Train_Accuracy:  0.3444\n",
      "Testing_Accuracy: 0.4235\n",
      "\n",
      "\n",
      "Epoch: 7 \n",
      "Train_Accuracy:  0.4118\n",
      "Testing_Accuracy: 0.4706\n",
      "\n",
      "\n",
      "Epoch: 8 \n",
      "Train_Accuracy:  0.4444\n",
      "Testing_Accuracy: 0.5176\n",
      "\n",
      "\n",
      "Epoch: 9 \n",
      "Train_Accuracy:  0.4850\n",
      "Testing_Accuracy: 0.6412\n",
      "\n",
      "\n",
      "Epoch: 10 \n",
      "Train_Accuracy:  0.5510\n",
      "Testing_Accuracy: 0.6706\n",
      "\n",
      "\n",
      "Epoch: 11 \n",
      "Train_Accuracy:  0.6098\n",
      "Testing_Accuracy: 0.6824\n",
      "\n",
      "\n",
      "Epoch: 12 \n",
      "Train_Accuracy:  0.6333\n",
      "Testing_Accuracy: 0.6882\n",
      "\n",
      "\n",
      "Epoch: 13 \n",
      "Train_Accuracy:  0.6490\n",
      "Testing_Accuracy: 0.6647\n",
      "\n",
      "\n",
      "Epoch: 14 \n",
      "Train_Accuracy:  0.6680\n",
      "Testing_Accuracy: 0.6824\n",
      "\n",
      "\n",
      "Epoch: 15 \n",
      "Train_Accuracy:  0.6771\n",
      "Testing_Accuracy: 0.7176\n",
      "\n",
      "\n",
      "Epoch: 16 \n",
      "Train_Accuracy:  0.6889\n",
      "Testing_Accuracy: 0.6941\n",
      "\n",
      "\n",
      "Epoch: 17 \n",
      "Train_Accuracy:  0.7059\n",
      "Testing_Accuracy: 0.6529\n",
      "\n",
      "\n",
      "Epoch: 18 \n",
      "Train_Accuracy:  0.6922\n",
      "Testing_Accuracy: 0.7059\n",
      "\n",
      "\n",
      "Epoch: 19 \n",
      "Train_Accuracy:  0.7085\n",
      "Testing_Accuracy: 0.7824\n",
      "\n",
      "\n",
      "Epoch: 20 \n",
      "Train_Accuracy:  0.7144\n",
      "Testing_Accuracy: 0.7176\n",
      "\n",
      "\n",
      "Epoch: 21 \n",
      "Train_Accuracy:  0.7261\n",
      "Testing_Accuracy: 0.7118\n",
      "\n",
      "\n",
      "Epoch: 22 \n",
      "Train_Accuracy:  0.7150\n",
      "Testing_Accuracy: 0.7059\n",
      "\n",
      "\n",
      "Epoch: 23 \n",
      "Train_Accuracy:  0.7157\n",
      "Testing_Accuracy: 0.6941\n",
      "\n",
      "\n",
      "Epoch: 24 \n",
      "Train_Accuracy:  0.7288\n",
      "Testing_Accuracy: 0.7706\n",
      "\n",
      "\n",
      "Epoch: 25 \n",
      "Train_Accuracy:  0.7353\n",
      "Testing_Accuracy: 0.7647\n",
      "\n",
      "\n",
      "Epoch: 26 \n",
      "Train_Accuracy:  0.7392\n",
      "Testing_Accuracy: 0.7176\n",
      "\n",
      "\n",
      "Epoch: 27 \n",
      "Train_Accuracy:  0.7405\n",
      "Testing_Accuracy: 0.8000\n",
      "\n",
      "\n",
      "Epoch: 28 \n",
      "Train_Accuracy:  0.7144\n",
      "Testing_Accuracy: 0.7353\n",
      "\n",
      "\n",
      "Epoch: 29 \n",
      "Train_Accuracy:  0.7124\n",
      "Testing_Accuracy: 0.7529\n",
      "\n",
      "\n",
      "Epoch: 30 \n",
      "Train_Accuracy:  0.7464\n",
      "Testing_Accuracy: 0.7294\n",
      "\n",
      "\n",
      "Epoch: 31 \n",
      "Train_Accuracy:  0.7484\n",
      "Testing_Accuracy: 0.7118\n",
      "\n",
      "\n",
      "Epoch: 32 \n",
      "Train_Accuracy:  0.7516\n",
      "Testing_Accuracy: 0.7471\n",
      "\n",
      "\n",
      "Epoch: 33 \n",
      "Train_Accuracy:  0.7490\n",
      "Testing_Accuracy: 0.7412\n",
      "\n",
      "\n",
      "Epoch: 34 \n",
      "Train_Accuracy:  0.7386\n",
      "Testing_Accuracy: 0.7412\n",
      "\n",
      "\n",
      "Epoch: 35 \n",
      "Train_Accuracy:  0.7425\n",
      "Testing_Accuracy: 0.7176\n",
      "\n",
      "\n",
      "Epoch: 36 \n",
      "Train_Accuracy:  0.7627\n",
      "Testing_Accuracy: 0.7353\n",
      "\n",
      "\n",
      "Epoch: 37 \n",
      "Train_Accuracy:  0.7288\n",
      "Testing_Accuracy: 0.7765\n",
      "\n",
      "\n",
      "Epoch: 38 \n",
      "Train_Accuracy:  0.7542\n",
      "Testing_Accuracy: 0.7059\n",
      "\n",
      "\n",
      "Epoch: 39 \n",
      "Train_Accuracy:  0.7556\n",
      "Testing_Accuracy: 0.7706\n",
      "\n",
      "\n",
      "Epoch: 40 \n",
      "Train_Accuracy:  0.7562\n",
      "Testing_Accuracy: 0.7588\n",
      "\n",
      "\n",
      "Epoch: 41 \n",
      "Train_Accuracy:  0.7771\n",
      "Testing_Accuracy: 0.7647\n",
      "\n",
      "\n",
      "Epoch: 42 \n",
      "Train_Accuracy:  0.7516\n",
      "Testing_Accuracy: 0.6941\n",
      "\n",
      "\n",
      "Epoch: 43 \n",
      "Train_Accuracy:  0.7601\n",
      "Testing_Accuracy: 0.7118\n",
      "\n",
      "\n",
      "Epoch: 44 \n",
      "Train_Accuracy:  0.7601\n",
      "Testing_Accuracy: 0.7235\n",
      "\n",
      "\n",
      "Epoch: 45 \n",
      "Train_Accuracy:  0.7614\n",
      "Testing_Accuracy: 0.7529\n",
      "\n",
      "\n",
      "Epoch: 46 \n",
      "Train_Accuracy:  0.7712\n",
      "Testing_Accuracy: 0.7765\n",
      "\n",
      "\n",
      "Epoch: 47 \n",
      "Train_Accuracy:  0.7706\n",
      "Testing_Accuracy: 0.7706\n",
      "\n",
      "\n",
      "Epoch: 48 \n",
      "Train_Accuracy:  0.7627\n",
      "Testing_Accuracy: 0.7882\n",
      "\n",
      "\n",
      "Epoch: 49 \n",
      "Train_Accuracy:  0.7758\n",
      "Testing_Accuracy: 0.8118\n",
      "\n",
      "\n",
      "Epoch: 50 \n",
      "Train_Accuracy:  0.7739\n",
      "Testing_Accuracy: 0.7529\n",
      "\n",
      "\n",
      "Epoch: 51 \n",
      "Train_Accuracy:  0.7595\n",
      "Testing_Accuracy: 0.7353\n",
      "\n",
      "\n",
      "Epoch: 52 \n",
      "Train_Accuracy:  0.7693\n",
      "Testing_Accuracy: 0.7471\n",
      "\n",
      "\n",
      "Epoch: 53 \n",
      "Train_Accuracy:  0.7673\n",
      "Testing_Accuracy: 0.7588\n",
      "\n",
      "\n",
      "Epoch: 54 \n",
      "Train_Accuracy:  0.7824\n",
      "Testing_Accuracy: 0.7647\n",
      "\n",
      "\n",
      "Epoch: 55 \n",
      "Train_Accuracy:  0.7876\n",
      "Testing_Accuracy: 0.8235\n",
      "\n",
      "\n",
      "Epoch: 56 \n",
      "Train_Accuracy:  0.7752\n",
      "Testing_Accuracy: 0.8059\n",
      "\n",
      "\n",
      "Epoch: 57 \n",
      "Train_Accuracy:  0.7804\n",
      "Testing_Accuracy: 0.7824\n",
      "\n",
      "\n",
      "Epoch: 58 \n",
      "Train_Accuracy:  0.7621\n",
      "Testing_Accuracy: 0.7824\n",
      "\n",
      "\n",
      "Epoch: 59 \n",
      "Train_Accuracy:  0.7752\n",
      "Testing_Accuracy: 0.8118\n",
      "\n",
      "\n",
      "Epoch: 60 \n",
      "Train_Accuracy:  0.7569\n",
      "Testing_Accuracy: 0.7824\n",
      "\n",
      "\n",
      "Epoch: 61 \n",
      "Train_Accuracy:  0.7902\n",
      "Testing_Accuracy: 0.7824\n",
      "\n",
      "\n",
      "Epoch: 62 \n",
      "Train_Accuracy:  0.7935\n",
      "Testing_Accuracy: 0.8059\n",
      "\n",
      "\n",
      "Epoch: 63 \n",
      "Train_Accuracy:  0.7830\n",
      "Testing_Accuracy: 0.7706\n",
      "\n",
      "\n",
      "Epoch: 64 \n",
      "Train_Accuracy:  0.7732\n",
      "Testing_Accuracy: 0.7765\n",
      "\n",
      "\n",
      "Epoch: 65 \n",
      "Train_Accuracy:  0.7954\n",
      "Testing_Accuracy: 0.7588\n",
      "\n",
      "\n",
      "Epoch: 66 \n",
      "Train_Accuracy:  0.7778\n",
      "Testing_Accuracy: 0.7353\n",
      "\n",
      "\n",
      "Epoch: 67 \n",
      "Train_Accuracy:  0.7948\n",
      "Testing_Accuracy: 0.8118\n",
      "\n",
      "\n",
      "Epoch: 68 \n",
      "Train_Accuracy:  0.7810\n",
      "Testing_Accuracy: 0.7882\n",
      "\n",
      "\n",
      "Epoch: 69 \n",
      "Train_Accuracy:  0.7889\n",
      "Testing_Accuracy: 0.7882\n",
      "\n",
      "\n",
      "Epoch: 70 \n",
      "Train_Accuracy:  0.7941\n",
      "Testing_Accuracy: 0.7824\n",
      "\n",
      "\n",
      "Epoch: 71 \n",
      "Train_Accuracy:  0.7784\n",
      "Testing_Accuracy: 0.7941\n",
      "\n",
      "\n",
      "Epoch: 72 \n",
      "Train_Accuracy:  0.7882\n",
      "Testing_Accuracy: 0.7824\n",
      "\n",
      "\n",
      "Epoch: 73 \n",
      "Train_Accuracy:  0.7856\n",
      "Testing_Accuracy: 0.8235\n",
      "\n",
      "\n",
      "Epoch: 74 \n",
      "Train_Accuracy:  0.7902\n",
      "Testing_Accuracy: 0.7765\n",
      "\n",
      "\n",
      "Epoch: 75 \n",
      "Train_Accuracy:  0.7824\n",
      "Testing_Accuracy: 0.7647\n",
      "\n",
      "\n",
      "Epoch: 76 \n",
      "Train_Accuracy:  0.7908\n",
      "Testing_Accuracy: 0.7941\n",
      "\n",
      "\n",
      "Epoch: 77 \n",
      "Train_Accuracy:  0.7869\n",
      "Testing_Accuracy: 0.7706\n",
      "\n",
      "\n",
      "Epoch: 78 \n",
      "Train_Accuracy:  0.7719\n",
      "Testing_Accuracy: 0.7588\n",
      "\n",
      "\n",
      "Epoch: 79 \n",
      "Train_Accuracy:  0.7993\n",
      "Testing_Accuracy: 0.7824\n",
      "\n",
      "\n",
      "Epoch: 80 \n",
      "Train_Accuracy:  0.7850\n",
      "Testing_Accuracy: 0.7706\n",
      "\n",
      "\n",
      "Epoch: 81 \n",
      "Train_Accuracy:  0.7843\n",
      "Testing_Accuracy: 0.7882\n",
      "\n",
      "\n",
      "Epoch: 82 \n",
      "Train_Accuracy:  0.7980\n",
      "Testing_Accuracy: 0.7824\n",
      "\n",
      "\n",
      "Epoch: 83 \n",
      "Train_Accuracy:  0.7889\n",
      "Testing_Accuracy: 0.7647\n",
      "\n",
      "\n",
      "Epoch: 84 \n",
      "Train_Accuracy:  0.7987\n",
      "Testing_Accuracy: 0.7824\n",
      "\n",
      "\n",
      "Epoch: 85 \n",
      "Train_Accuracy:  0.8072\n",
      "Testing_Accuracy: 0.8235\n",
      "\n",
      "\n",
      "Epoch: 86 \n",
      "Train_Accuracy:  0.7902\n",
      "Testing_Accuracy: 0.7941\n",
      "\n",
      "\n",
      "Epoch: 87 \n",
      "Train_Accuracy:  0.8170\n",
      "Testing_Accuracy: 0.8059\n",
      "\n",
      "\n",
      "Epoch: 88 \n",
      "Train_Accuracy:  0.8059\n",
      "Testing_Accuracy: 0.7765\n",
      "\n",
      "\n",
      "Epoch: 89 \n",
      "Train_Accuracy:  0.7987\n",
      "Testing_Accuracy: 0.7706\n",
      "\n",
      "\n",
      "Epoch: 90 \n",
      "Train_Accuracy:  0.8078\n",
      "Testing_Accuracy: 0.7941\n",
      "\n",
      "\n",
      "Epoch: 91 \n",
      "Train_Accuracy:  0.8013\n",
      "Testing_Accuracy: 0.8000\n",
      "\n",
      "\n",
      "Epoch: 92 \n",
      "Train_Accuracy:  0.7993\n",
      "Testing_Accuracy: 0.7765\n",
      "\n",
      "\n",
      "Epoch: 93 \n",
      "Train_Accuracy:  0.8013\n",
      "Testing_Accuracy: 0.8000\n",
      "\n",
      "\n",
      "Epoch: 94 \n",
      "Train_Accuracy:  0.8137\n",
      "Testing_Accuracy: 0.7882\n",
      "\n",
      "\n",
      "Epoch: 95 \n",
      "Train_Accuracy:  0.8092\n",
      "Testing_Accuracy: 0.7882\n",
      "\n",
      "\n",
      "Epoch: 96 \n",
      "Train_Accuracy:  0.8078\n",
      "Testing_Accuracy: 0.8000\n",
      "\n",
      "\n",
      "Epoch: 97 \n",
      "Train_Accuracy:  0.8150\n",
      "Testing_Accuracy: 0.8000\n",
      "\n",
      "\n",
      "Epoch: 98 \n",
      "Train_Accuracy:  0.7876\n",
      "Testing_Accuracy: 0.8000\n",
      "\n",
      "\n",
      "Epoch: 99 \n",
      "Train_Accuracy:  0.8007\n",
      "Testing_Accuracy: 0.7882\n",
      "\n",
      "\n",
      "Epoch: 100 \n",
      "Train_Accuracy:  0.8098\n",
      "Testing_Accuracy: 0.7882\n",
      "\n",
      "\n",
      "Epoch: 101 \n",
      "Train_Accuracy:  0.8124\n",
      "Testing_Accuracy: 0.8235\n",
      "\n",
      "\n",
      "Epoch: 102 \n",
      "Train_Accuracy:  0.8150\n",
      "Testing_Accuracy: 0.8176\n",
      "\n",
      "\n",
      "Epoch: 103 \n",
      "Train_Accuracy:  0.8157\n",
      "Testing_Accuracy: 0.7882\n",
      "\n",
      "\n",
      "Epoch: 104 \n",
      "Train_Accuracy:  0.8209\n",
      "Testing_Accuracy: 0.8176\n",
      "\n",
      "\n",
      "Epoch: 105 \n",
      "Train_Accuracy:  0.8327\n",
      "Testing_Accuracy: 0.8059\n",
      "\n",
      "\n",
      "Epoch: 106 \n",
      "Train_Accuracy:  0.8131\n",
      "Testing_Accuracy: 0.7824\n",
      "\n",
      "\n",
      "Epoch: 107 \n",
      "Train_Accuracy:  0.8203\n",
      "Testing_Accuracy: 0.8118\n",
      "\n",
      "\n",
      "Epoch: 108 \n",
      "Train_Accuracy:  0.8065\n",
      "Testing_Accuracy: 0.8176\n",
      "\n",
      "\n",
      "Epoch: 109 \n",
      "Train_Accuracy:  0.8281\n",
      "Testing_Accuracy: 0.7765\n",
      "\n",
      "\n",
      "Epoch: 110 \n",
      "Train_Accuracy:  0.8373\n",
      "Testing_Accuracy: 0.7882\n",
      "\n",
      "\n",
      "Epoch: 111 \n",
      "Train_Accuracy:  0.8346\n",
      "Testing_Accuracy: 0.8000\n",
      "\n",
      "\n",
      "Epoch: 112 \n",
      "Train_Accuracy:  0.8301\n",
      "Testing_Accuracy: 0.7765\n",
      "\n",
      "\n",
      "Epoch: 113 \n",
      "Train_Accuracy:  0.8307\n",
      "Testing_Accuracy: 0.7882\n",
      "\n",
      "\n",
      "Epoch: 114 \n",
      "Train_Accuracy:  0.8288\n",
      "Testing_Accuracy: 0.8176\n",
      "\n",
      "\n",
      "Epoch: 115 \n",
      "Train_Accuracy:  0.8503\n",
      "Testing_Accuracy: 0.8353\n",
      "\n",
      "\n",
      "Epoch: 116 \n",
      "Train_Accuracy:  0.8444\n",
      "Testing_Accuracy: 0.8235\n",
      "\n",
      "\n",
      "Epoch: 117 \n",
      "Train_Accuracy:  0.8333\n",
      "Testing_Accuracy: 0.7882\n",
      "\n",
      "\n",
      "Epoch: 118 \n",
      "Train_Accuracy:  0.8444\n",
      "Testing_Accuracy: 0.8118\n",
      "\n",
      "\n",
      "Epoch: 119 \n",
      "Train_Accuracy:  0.8477\n",
      "Testing_Accuracy: 0.8059\n",
      "\n",
      "\n",
      "Epoch: 120 \n",
      "Train_Accuracy:  0.8490\n",
      "Testing_Accuracy: 0.7882\n"
     ]
    }
   ],
   "source": [
    "epochs = 120\n",
    "\n",
    "trainloss = []\n",
    "valloss = []\n",
    "\n",
    "train_acc_epochwise = []\n",
    "val_acc_epochwise = []\n",
    "\n",
    "\n",
    "#Setting a minimum loss value which can be surpassed and replaced by a new value if model produces lower loss\n",
    "threshold = 15\n",
    "\n",
    "#Looping over the entire train data in each epoch\n",
    "\n",
    "for epoch in range(epochs):\n",
    "    trainepoch = 0.0\n",
    "    valepoch = 0.0\n",
    " #Training Loop\n",
    "    for num, (X_train, y_train) in enumerate(trainloader):\n",
    "        X_train, y_train=X_train.cuda(), y_train.cuda()\n",
    "        trapred=model(X_train)\n",
    "        loss=criterion(trapred,y_train)\n",
    "        optimizer.zero_grad()\n",
    "        loss.backward()\n",
    "        optimizer.step()\n",
    "        c,d=torch.max(trapred.data,1)\n",
    "        trainepoch+=int(torch.sum(d==y_train.data))\n",
    "    train_acc_epochwise.append(trainepoch/trainsplit)    \n",
    "    trainloss.append(loss.detach().cpu().numpy())  \n",
    "\n",
    "    #Saving the best model when a model produces lower test loss than the previously set threshold\n",
    "    if loss < threshold:\n",
    "        torch.save(model.state_dict(),'bestomodelo.pth')\n",
    "        threshold = loss\n",
    "    \n",
    "    #Predicting values in the validation set and checking the test accuracy\n",
    "    with torch.no_grad():\n",
    "        model.eval()\n",
    "        for valnum, (X_test, y_test) in enumerate(validloader):\n",
    "            X_test, y_test = X_test.cuda(), y_test.cuda()\n",
    "            tespred = model(X_test)\n",
    "            e,f=torch.max(tespred.data,1)\n",
    "            valepoch+=int(torch.sum(f==y_test.data))\n",
    "        val_acc_epochwise.append(valepoch/testsplit)\n",
    "        model.train()  \n",
    "    testloss = criterion(tespred,y_test) \n",
    "    valloss.append(testloss.detach().cpu().numpy())\n",
    "    print(f'\\n\\nEpoch: {epoch+1} \\nTrain_Accuracy: {trainepoch/trainsplit: .4f}\\nTesting_Accuracy:{valepoch/testsplit: .4f}')\n"
   ]
  },
  {
   "cell_type": "markdown",
   "id": "4335acc1",
   "metadata": {
    "papermill": {
     "duration": 0.090924,
     "end_time": "2022-03-25T23:12:17.712091",
     "exception": false,
     "start_time": "2022-03-25T23:12:17.621167",
     "status": "completed"
    },
    "tags": []
   },
   "source": [
    "**Evaluating the accuracy and loss of train and validation sets**"
   ]
  },
  {
   "cell_type": "code",
   "execution_count": 14,
   "id": "d24fa851",
   "metadata": {
    "execution": {
     "iopub.execute_input": "2022-03-25T23:12:17.883952Z",
     "iopub.status.busy": "2022-03-25T23:12:17.882970Z",
     "iopub.status.idle": "2022-03-25T23:12:18.159393Z",
     "shell.execute_reply": "2022-03-25T23:12:18.160019Z",
     "shell.execute_reply.started": "2022-03-25T22:59:33.551660Z"
    },
    "papermill": {
     "duration": 0.37119,
     "end_time": "2022-03-25T23:12:18.160191",
     "exception": false,
     "start_time": "2022-03-25T23:12:17.789001",
     "status": "completed"
    },
    "tags": []
   },
   "outputs": [
    {
     "data": {
      "image/png": "[encoded data removed]",
      "text/plain": [
       "<Figure size 720x576 with 1 Axes>"
      ]
     },
     "metadata": {
      "needs_background": "light"
     },
     "output_type": "display_data"
    }
   ],
   "source": [
    "plt.figure(figsize=(10,8))\n",
    "plt.plot(train_acc_epochwise,label='Training accuracy')\n",
    "plt.plot(val_acc_epochwise,label='Validation accuracy')\n",
    "plt.title('Accuracy Plot',fontsize=18)\n",
    "plt.xlabel('Epochs',fontsize=10)\n",
    "plt.ylabel('Accuracy',fontsize=10)\n",
    "plt.legend()\n",
    "plt.show()"
   ]
  },
  {
   "cell_type": "code",
   "execution_count": 15,
   "id": "b54c0af9",
   "metadata": {
    "execution": {
     "iopub.execute_input": "2022-03-25T23:12:18.375441Z",
     "iopub.status.busy": "2022-03-25T23:12:18.361390Z",
     "iopub.status.idle": "2022-03-25T23:12:18.590950Z",
     "shell.execute_reply": "2022-03-25T23:12:18.591479Z",
     "shell.execute_reply.started": "2022-03-25T22:59:33.789462Z"
    },
    "papermill": {
     "duration": 0.346173,
     "end_time": "2022-03-25T23:12:18.591711",
     "exception": false,
     "start_time": "2022-03-25T23:12:18.245538",
     "status": "completed"
    },
    "tags": []
   },
   "outputs": [
    {
     "data": {
      "image/png": "[encoded data removed]",
      "text/plain": [
       "<Figure size 720x576 with 1 Axes>"
      ]
     },
     "metadata": {
      "needs_background": "light"
     },
     "output_type": "display_data"
    }
   ],
   "source": [
    "plt.figure(figsize=(10,8))\n",
    "plt.plot(trainloss,label='Training Loss')\n",
    "plt.plot(valloss,label='Validation Loss')\n",
    "plt.title('Loss Plot',fontsize=18)\n",
    "plt.xlabel('Epochs',fontsize=10)\n",
    "plt.ylabel('Loss',fontsize=10)\n",
    "plt.legend()\n",
    "plt.show()"
   ]
  },
  {
   "cell_type": "markdown",
   "id": "f546bd1a",
   "metadata": {
    "papermill": {
     "duration": 0.080508,
     "end_time": "2022-03-25T23:12:18.755633",
     "exception": false,
     "start_time": "2022-03-25T23:12:18.675125",
     "status": "completed"
    },
    "tags": []
   },
   "source": [
    "**Getting the files from the test directory so that each of them can be predicted**"
   ]
  },
  {
   "cell_type": "code",
   "execution_count": 16,
   "id": "962b2dd9",
   "metadata": {
    "execution": {
     "iopub.execute_input": "2022-03-25T23:12:18.923064Z",
     "iopub.status.busy": "2022-03-25T23:12:18.922294Z",
     "iopub.status.idle": "2022-03-25T23:12:19.037986Z",
     "shell.execute_reply": "2022-03-25T23:12:19.038623Z",
     "shell.execute_reply.started": "2022-03-25T22:59:34.127395Z"
    },
    "papermill": {
     "duration": 0.20274,
     "end_time": "2022-03-25T23:12:19.038813",
     "exception": false,
     "start_time": "2022-03-25T23:12:18.836073",
     "status": "completed"
    },
    "tags": []
   },
   "outputs": [],
   "source": [
    "testroot=f'{test_path}/test'\n",
    "filelist=os.listdir(testroot)"
   ]
  },
  {
   "cell_type": "markdown",
   "id": "2ae9f5dd",
   "metadata": {
    "papermill": {
     "duration": 0.083498,
     "end_time": "2022-03-25T23:12:19.203779",
     "exception": false,
     "start_time": "2022-03-25T23:12:19.120281",
     "status": "completed"
    },
    "tags": []
   },
   "source": [
    "**Some Helperfunctions for transformation and prediction of test images**"
   ]
  },
  {
   "cell_type": "code",
   "execution_count": 17,
   "id": "244ae7be",
   "metadata": {
    "execution": {
     "iopub.execute_input": "2022-03-25T23:12:19.371999Z",
     "iopub.status.busy": "2022-03-25T23:12:19.370932Z",
     "iopub.status.idle": "2022-03-25T23:12:19.373356Z",
     "shell.execute_reply": "2022-03-25T23:12:19.373875Z",
     "shell.execute_reply.started": "2022-03-25T22:59:34.135019Z"
    },
    "papermill": {
     "duration": 0.090042,
     "end_time": "2022-03-25T23:12:19.374031",
     "exception": false,
     "start_time": "2022-03-25T23:12:19.283989",
     "status": "completed"
    },
    "tags": []
   },
   "outputs": [],
   "source": [
    "#For transforming each individual image\n",
    "def testtransformsperimg(x):\n",
    "    x=transforms.functional.to_tensor(x)\n",
    "    x=transforms.functional.normalize(x,[0.485, 0.456, 0.406],[0.229, 0.224, 0.225])\n",
    "    return x\n",
    "\n",
    "#For applying the transforms defined in testtransformsperimg function\n",
    "def testimgtotransimg(x):\n",
    "    imgfile = Image.open(f'{testroot}/{x}')\n",
    "    return testtransformsperimg(imgfile)\n",
    "\n",
    "#For getting the prediction of each image\n",
    "def singleimagepred(model, tensor):\n",
    "    img = torch.stack([tensor])\n",
    "    softfun = nn.Softmax(dim = 1)\n",
    "    return torch.argmax(softfun(model(img.cuda()).cuda())).item()"
   ]
  },
  {
   "cell_type": "markdown",
   "id": "9e63a63d",
   "metadata": {
    "papermill": {
     "duration": 0.07563,
     "end_time": "2022-03-25T23:12:19.530180",
     "exception": false,
     "start_time": "2022-03-25T23:12:19.454550",
     "status": "completed"
    },
    "tags": []
   },
   "source": [
    "**Putting the model on eval mode and getting the prediction for each image**"
   ]
  },
  {
   "cell_type": "code",
   "execution_count": 18,
   "id": "79e49a19",
   "metadata": {
    "execution": {
     "iopub.execute_input": "2022-03-25T23:12:19.681238Z",
     "iopub.status.busy": "2022-03-25T23:12:19.680214Z",
     "iopub.status.idle": "2022-03-25T23:12:39.891021Z",
     "shell.execute_reply": "2022-03-25T23:12:39.890466Z",
     "shell.execute_reply.started": "2022-03-25T22:59:34.144408Z"
    },
    "papermill": {
     "duration": 20.290041,
     "end_time": "2022-03-25T23:12:39.891157",
     "exception": false,
     "start_time": "2022-03-25T23:12:19.601116",
     "status": "completed"
    },
    "tags": []
   },
   "outputs": [],
   "source": [
    "model.cuda().load_state_dict(torch.load('bestomodelo.pth'))\n",
    "model.cuda().eval()\n",
    "predictdict = {imagefile: singleimagepred(model.cuda(),testimgtotransimg(imagefile)) for imagefile in filelist}"
   ]
  },
  {
   "cell_type": "markdown",
   "id": "047327f3",
   "metadata": {
    "papermill": {
     "duration": 0.076247,
     "end_time": "2022-03-25T23:12:40.042211",
     "exception": false,
     "start_time": "2022-03-25T23:12:39.965964",
     "status": "completed"
    },
    "tags": []
   },
   "source": [
    "**Converting the obtained dictionary into a dataframe so that it can be easily converted into a csv file later**"
   ]
  },
  {
   "cell_type": "code",
   "execution_count": 19,
   "id": "ad83dc57",
   "metadata": {
    "execution": {
     "iopub.execute_input": "2022-03-25T23:12:40.222527Z",
     "iopub.status.busy": "2022-03-25T23:12:40.221568Z",
     "iopub.status.idle": "2022-03-25T23:12:40.231179Z",
     "shell.execute_reply": "2022-03-25T23:12:40.231626Z",
     "shell.execute_reply.started": "2022-03-25T22:59:41.975633Z"
    },
    "papermill": {
     "duration": 0.114615,
     "end_time": "2022-03-25T23:12:40.231813",
     "exception": false,
     "start_time": "2022-03-25T23:12:40.117198",
     "status": "completed"
    },
    "tags": []
   },
   "outputs": [
    {
     "data": {
      "text/html": [
       "<div>\n",
       "<style scoped>\n",
       "    .dataframe tbody tr th:only-of-type {\n",
       "        vertical-align: middle;\n",
       "    }\n",
       "\n",
       "    .dataframe tbody tr th {\n",
       "        vertical-align: top;\n",
       "    }\n",
       "\n",
       "    .dataframe thead th {\n",
       "        text-align: right;\n",
       "    }\n",
       "</style>\n",
       "<table border=\"1\" class=\"dataframe\">\n",
       "  <thead>\n",
       "    <tr style=\"text-align: right;\">\n",
       "      <th></th>\n",
       "      <th>Id</th>\n",
       "      <th>Type</th>\n",
       "    </tr>\n",
       "  </thead>\n",
       "  <tbody>\n",
       "    <tr>\n",
       "      <th>tile5001.png</th>\n",
       "      <td>tile5001.png</td>\n",
       "      <td>3</td>\n",
       "    </tr>\n",
       "    <tr>\n",
       "      <th>tile5002.png</th>\n",
       "      <td>tile5002.png</td>\n",
       "      <td>1</td>\n",
       "    </tr>\n",
       "    <tr>\n",
       "      <th>tile5003.png</th>\n",
       "      <td>tile5003.png</td>\n",
       "      <td>3</td>\n",
       "    </tr>\n",
       "    <tr>\n",
       "      <th>tile5004.png</th>\n",
       "      <td>tile5004.png</td>\n",
       "      <td>3</td>\n",
       "    </tr>\n",
       "    <tr>\n",
       "      <th>tile5005.png</th>\n",
       "      <td>tile5005.png</td>\n",
       "      <td>3</td>\n",
       "    </tr>\n",
       "  </tbody>\n",
       "</table>\n",
       "</div>"
      ],
      "text/plain": [
       "                        Id  Type\n",
       "tile5001.png  tile5001.png     3\n",
       "tile5002.png  tile5002.png     1\n",
       "tile5003.png  tile5003.png     3\n",
       "tile5004.png  tile5004.png     3\n",
       "tile5005.png  tile5005.png     3"
      ]
     },
     "execution_count": 19,
     "metadata": {},
     "output_type": "execute_result"
    }
   ],
   "source": [
    "predictserie = pd.Series({x:y for (x,y) in zip(predictdict.keys(), predictdict.values())})\n",
    "predictdf = pd.DataFrame(predictserie, columns = ['Type']).sort_index()\n",
    "predictdf['Id'] = predictdf.index\n",
    "predictdf = predictdf[['Id', 'Type']]\n",
    "predictdf.head()"
   ]
  },
  {
   "cell_type": "markdown",
   "id": "e81d8100",
   "metadata": {
    "papermill": {
     "duration": 0.077919,
     "end_time": "2022-03-25T23:12:40.387678",
     "exception": false,
     "start_time": "2022-03-25T23:12:40.309759",
     "status": "completed"
    },
    "tags": []
   },
   "source": [
    "**Relablelling the numbers back to its actual class name**"
   ]
  },
  {
   "cell_type": "code",
   "execution_count": 20,
   "id": "dda9f401",
   "metadata": {
    "execution": {
     "iopub.execute_input": "2022-03-25T23:12:40.547897Z",
     "iopub.status.busy": "2022-03-25T23:12:40.546941Z",
     "iopub.status.idle": "2022-03-25T23:12:40.548860Z",
     "shell.execute_reply": "2022-03-25T23:12:40.549323Z",
     "shell.execute_reply.started": "2022-03-25T22:59:41.999825Z"
    },
    "papermill": {
     "duration": 0.084213,
     "end_time": "2022-03-25T23:12:40.549461",
     "exception": false,
     "start_time": "2022-03-25T23:12:40.465248",
     "status": "completed"
    },
    "tags": []
   },
   "outputs": [],
   "source": [
    "def labelback(x):\n",
    "    if x == 0 :\n",
    "        return 'Cancer'\n",
    "    if x == 1:\n",
    "        return 'Connective'\n",
    "    if x == 2:\n",
    "        return 'Immune'\n",
    "    if x == 3:\n",
    "        return 'Normal'"
   ]
  },
  {
   "cell_type": "code",
   "execution_count": 21,
   "id": "aada5fe2",
   "metadata": {
    "execution": {
     "iopub.execute_input": "2022-03-25T23:12:40.705736Z",
     "iopub.status.busy": "2022-03-25T23:12:40.704046Z",
     "iopub.status.idle": "2022-03-25T23:12:40.706341Z",
     "shell.execute_reply": "2022-03-25T23:12:40.706830Z",
     "shell.execute_reply.started": "2022-03-25T22:59:42.006538Z"
    },
    "papermill": {
     "duration": 0.082549,
     "end_time": "2022-03-25T23:12:40.706976",
     "exception": false,
     "start_time": "2022-03-25T23:12:40.624427",
     "status": "completed"
    },
    "tags": []
   },
   "outputs": [],
   "source": [
    "predictdf['Type'] = predictdf['Type'].map(lambda x:labelback(x))"
   ]
  },
  {
   "cell_type": "markdown",
   "id": "024eef59",
   "metadata": {
    "papermill": {
     "duration": 0.074192,
     "end_time": "2022-03-25T23:12:40.853878",
     "exception": false,
     "start_time": "2022-03-25T23:12:40.779686",
     "status": "completed"
    },
    "tags": []
   },
   "source": [
    "**Converting the dataframe to csv file**"
   ]
  },
  {
   "cell_type": "code",
   "execution_count": 22,
   "id": "cbf6167a",
   "metadata": {
    "execution": {
     "iopub.execute_input": "2022-03-25T23:12:41.007790Z",
     "iopub.status.busy": "2022-03-25T23:12:41.006877Z",
     "iopub.status.idle": "2022-03-25T23:12:41.017028Z",
     "shell.execute_reply": "2022-03-25T23:12:41.016461Z",
     "shell.execute_reply.started": "2022-03-25T22:59:42.018576Z"
    },
    "papermill": {
     "duration": 0.090066,
     "end_time": "2022-03-25T23:12:41.017161",
     "exception": false,
     "start_time": "2022-03-25T23:12:40.927095",
     "status": "completed"
    },
    "tags": []
   },
   "outputs": [],
   "source": [
    "predictdf.to_csv('submissions.csv',index=False)"
   ]
  }
 ],
 "metadata": {
  "kernelspec": {
   "display_name": "Python 3",
   "language": "python",
   "name": "python3"
  },
  "language_info": {
   "codemirror_mode": {
    "name": "ipython",
    "version": 3
   },
   "file_extension": ".py",
   "mimetype": "text/x-python",
   "name": "python",
   "nbconvert_exporter": "python",
   "pygments_lexer": "ipython3",
   "version": "3.7.12"
  },
  "papermill": {
   "default_parameters": {},
   "duration": 563.258316,
   "end_time": "2022-03-25T23:12:42.501992",
   "environment_variables": {},
   "exception": null,
   "input_path": "__notebook__.ipynb",
   "output_path": "__notebook__.ipynb",
   "parameters": {},
   "start_time": "2022-03-25T23:03:19.243676",
   "version": "2.3.3"
  }
 },
 "nbformat": 4,
 "nbformat_minor": 5
}
